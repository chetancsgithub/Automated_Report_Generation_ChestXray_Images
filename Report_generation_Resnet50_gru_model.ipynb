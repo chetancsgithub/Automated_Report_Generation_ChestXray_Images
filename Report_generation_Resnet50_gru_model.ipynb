{
  "metadata": {
    "kernelspec": {
      "language": "python",
      "display_name": "Python 3",
      "name": "python3"
    },
    "language_info": {
      "name": "python",
      "version": "3.10.13",
      "mimetype": "text/x-python",
      "codemirror_mode": {
        "name": "ipython",
        "version": 3
      },
      "pygments_lexer": "ipython3",
      "nbconvert_exporter": "python",
      "file_extension": ".py"
    },
    "kaggle": {
      "accelerator": "none",
      "dataSources": [
        {
          "sourceId": 951996,
          "sourceType": "datasetVersion",
          "datasetId": 516716
        },
        {
          "sourceId": 8678968,
          "sourceType": "datasetVersion",
          "datasetId": 5202563
        },
        {
          "sourceId": 8691574,
          "sourceType": "datasetVersion",
          "datasetId": 5211859
        },
        {
          "sourceId": 8868920,
          "sourceType": "datasetVersion",
          "datasetId": 5337427
        },
        {
          "sourceId": 8919066,
          "sourceType": "datasetVersion",
          "datasetId": 5364100
        },
        {
          "sourceId": 176879386,
          "sourceType": "kernelVersion"
        }
      ],
      "dockerImageVersionId": 30699,
      "isInternetEnabled": true,
      "language": "python",
      "sourceType": "notebook",
      "isGpuEnabled": false
    },
    "colab": {
      "name": "Resnet50_model",
      "provenance": []
    }
  },
  "nbformat_minor": 0,
  "nbformat": 4,
  "cells": [
    {
      "cell_type": "code",
      "source": [
        "!pip install contractions transformers torch torchvision\n",
        "\n",
        "import pandas as pd\n",
        "import re\n",
        "import nltk\n",
        "from bs4 import BeautifulSoup\n",
        "from nltk.corpus import stopwords\n",
        "\n",
        "nltk.download('stopwords')\n",
        "stop_words = set(stopwords.words('english'))\n",
        "stop_words.difference_update({'no', 'not'})\n",
        "\n",
        "import numpy as np\n",
        "import matplotlib.pyplot as plt\n",
        "import seaborn as sns\n",
        "import os\n",
        "import warnings\n",
        "import cv2\n",
        "from sklearn.model_selection import train_test_split\n",
        "from PIL import Image\n",
        "import tensorflow as tf\n",
        "import torch\n",
        "import torch.nn as nn\n",
        "import torch.optim as optim\n",
        "from transformers import BertModel, BertTokenizer, GPT2LMHeadModel, GPT2Tokenizer, ViTModel, ViTFeatureExtractor\n",
        "from tqdm import tqdm\n",
        "\n",
        "warnings.filterwarnings(\"ignore\")"
      ],
      "metadata": {
        "execution": {
          "iopub.status.busy": "2024-07-17T10:16:23.381872Z",
          "iopub.execute_input": "2024-07-17T10:16:23.382357Z",
          "iopub.status.idle": "2024-07-17T10:16:35.861507Z",
          "shell.execute_reply.started": "2024-07-17T10:16:23.382312Z",
          "shell.execute_reply": "2024-07-17T10:16:35.85996Z"
        },
        "trusted": true,
        "id": "Ts1LAld8FvlK"
      },
      "execution_count": null,
      "outputs": []
    },
    {
      "cell_type": "code",
      "source": [
        "import contractions"
      ],
      "metadata": {
        "execution": {
          "iopub.status.busy": "2024-07-17T10:16:35.863822Z",
          "iopub.execute_input": "2024-07-17T10:16:35.864207Z",
          "iopub.status.idle": "2024-07-17T10:16:35.869382Z",
          "shell.execute_reply.started": "2024-07-17T10:16:35.864173Z",
          "shell.execute_reply": "2024-07-17T10:16:35.868264Z"
        },
        "trusted": true,
        "id": "esPCot55FvlL"
      },
      "execution_count": null,
      "outputs": []
    },
    {
      "cell_type": "code",
      "source": [
        "df2 = pd.read_csv('/kaggle/input/chest-xrays-indiana-university/indiana_projections.csv')\n",
        "df1 = pd.read_csv('/kaggle/input/chest-xrays-indiana-university/indiana_reports.csv')\n"
      ],
      "metadata": {
        "execution": {
          "iopub.status.busy": "2024-07-17T10:16:35.870756Z",
          "iopub.execute_input": "2024-07-17T10:16:35.871134Z",
          "iopub.status.idle": "2024-07-17T10:16:35.931896Z",
          "shell.execute_reply.started": "2024-07-17T10:16:35.871104Z",
          "shell.execute_reply": "2024-07-17T10:16:35.930574Z"
        },
        "trusted": true,
        "id": "JosQnip-FvlL"
      },
      "execution_count": null,
      "outputs": []
    },
    {
      "cell_type": "code",
      "source": [
        "df2 = df2.drop_duplicates(subset=['uid', 'projection'])\n",
        "directory_path = r'/kaggle/input/chest-xrays-indiana-university/images/images_normalized'\n",
        "df2['filename'] = df2['filename'].apply(lambda x: f'{directory_path}/{x}')"
      ],
      "metadata": {
        "execution": {
          "iopub.status.busy": "2024-07-17T10:16:35.934313Z",
          "iopub.execute_input": "2024-07-17T10:16:35.934683Z",
          "iopub.status.idle": "2024-07-17T10:16:35.949801Z",
          "shell.execute_reply.started": "2024-07-17T10:16:35.934653Z",
          "shell.execute_reply": "2024-07-17T10:16:35.948546Z"
        },
        "trusted": true,
        "id": "HsZEVESLFvlM"
      },
      "execution_count": null,
      "outputs": []
    },
    {
      "cell_type": "code",
      "source": [
        "pivot_df = df2.pivot(index='uid', columns='projection', values='filename').reset_index()"
      ],
      "metadata": {
        "execution": {
          "iopub.status.busy": "2024-07-17T10:16:35.951371Z",
          "iopub.execute_input": "2024-07-17T10:16:35.951828Z",
          "iopub.status.idle": "2024-07-17T10:16:35.965578Z",
          "shell.execute_reply.started": "2024-07-17T10:16:35.951791Z",
          "shell.execute_reply": "2024-07-17T10:16:35.964195Z"
        },
        "trusted": true,
        "id": "28uS_l7-FvlN"
      },
      "execution_count": null,
      "outputs": []
    },
    {
      "cell_type": "code",
      "source": [
        "def create_sentence_report(row):\n",
        "    return f\"\"\"{row['findings']}{row['impression']}\"\"\""
      ],
      "metadata": {
        "execution": {
          "iopub.status.busy": "2024-07-17T10:16:35.966871Z",
          "iopub.execute_input": "2024-07-17T10:16:35.96722Z",
          "iopub.status.idle": "2024-07-17T10:16:35.972427Z",
          "shell.execute_reply.started": "2024-07-17T10:16:35.967192Z",
          "shell.execute_reply": "2024-07-17T10:16:35.971211Z"
        },
        "trusted": true,
        "id": "NTpIneH8FvlN"
      },
      "execution_count": null,
      "outputs": []
    },
    {
      "cell_type": "code",
      "source": [
        "df1['report'] = df1.apply(create_sentence_report, axis=1)"
      ],
      "metadata": {
        "execution": {
          "iopub.status.busy": "2024-07-17T10:16:35.973661Z",
          "iopub.execute_input": "2024-07-17T10:16:35.973963Z",
          "iopub.status.idle": "2024-07-17T10:16:36.031195Z",
          "shell.execute_reply.started": "2024-07-17T10:16:35.973937Z",
          "shell.execute_reply": "2024-07-17T10:16:36.030246Z"
        },
        "trusted": true,
        "id": "5x8aiyd0FvlN"
      },
      "execution_count": null,
      "outputs": []
    },
    {
      "cell_type": "code",
      "source": [
        "def expand_contractions(text):\n",
        "    contractions = {\n",
        "        \"isn't\": \"is not\",\n",
        "        \"doesn't\": \"does not\",\n",
        "        # Add more contractions as needed\n",
        "    }\n",
        "    for contraction, expanded in contractions.items():\n",
        "        text = re.sub(r'\\b{}\\b'.format(contraction), expanded, text)\n",
        "    return text"
      ],
      "metadata": {
        "execution": {
          "iopub.status.busy": "2024-07-17T10:16:36.032855Z",
          "iopub.execute_input": "2024-07-17T10:16:36.033293Z",
          "iopub.status.idle": "2024-07-17T10:16:36.038603Z",
          "shell.execute_reply.started": "2024-07-17T10:16:36.033254Z",
          "shell.execute_reply": "2024-07-17T10:16:36.037529Z"
        },
        "trusted": true,
        "id": "9f9NaazFFvlO"
      },
      "execution_count": null,
      "outputs": []
    },
    {
      "cell_type": "code",
      "source": [
        "def preprocess_text(text):\n",
        "    # Define stopwords\n",
        "    stop_words = set(stopwords.words('english'))\n",
        "\n",
        "    # Convert to lowercase\n",
        "    text = text.lower()\n",
        "\n",
        "    # Expand contractions\n",
        "    text = contractions.fix(text)\n",
        "\n",
        "    # Remove HTML tags\n",
        "    text = BeautifulSoup(text, \"html.parser\").get_text()\n",
        "\n",
        "    # Remove non-alphabetical characters (except spaces and periods)\n",
        "    text = re.sub(r'[^a-zA-Z\\s.]', '', text)\n",
        "\n",
        "\n",
        "    # Remove words containing 'xx' or similar patterns\n",
        "    text = re.sub(r'\\bxx+\\w*\\b', '', text)\n",
        "    text = re.sub(r'\\b\\w*xx+\\w*\\b', '', text)\n",
        "\n",
        "    # Remove the phrase 'year old'\n",
        "    text = re.sub(r'\\byear old\\b', '', text)\n",
        "\n",
        "    # Remove extra whitespace\n",
        "    text = re.sub(r'\\s+', ' ', text).strip()\n",
        "\n",
        "    # Remove stopwords and filter out words shorter than three characters\n",
        "    text = ' '.join([word for word in text.split() if word not in stop_words and len(word) > 2])\n",
        "\n",
        "    return text"
      ],
      "metadata": {
        "execution": {
          "iopub.status.busy": "2024-07-17T10:16:36.039856Z",
          "iopub.execute_input": "2024-07-17T10:16:36.040201Z",
          "iopub.status.idle": "2024-07-17T10:16:36.05098Z",
          "shell.execute_reply.started": "2024-07-17T10:16:36.040174Z",
          "shell.execute_reply": "2024-07-17T10:16:36.049817Z"
        },
        "trusted": true,
        "id": "3-ncCSoSFvlO"
      },
      "execution_count": null,
      "outputs": []
    },
    {
      "cell_type": "code",
      "source": [
        "df1['report'] = df1['report'].apply(preprocess_text)"
      ],
      "metadata": {
        "execution": {
          "iopub.status.busy": "2024-07-17T10:16:36.055337Z",
          "iopub.execute_input": "2024-07-17T10:16:36.056108Z",
          "iopub.status.idle": "2024-07-17T10:16:37.406145Z",
          "shell.execute_reply.started": "2024-07-17T10:16:36.055997Z",
          "shell.execute_reply": "2024-07-17T10:16:37.404829Z"
        },
        "trusted": true,
        "id": "KOnzuAjMFvlP"
      },
      "execution_count": null,
      "outputs": []
    },
    {
      "cell_type": "code",
      "source": [
        "columns_to_combine = ['MeSH','Problems', 'image', 'indication', 'comparison', 'findings', 'impression']\n",
        "df1.drop(columns=columns_to_combine, inplace=True)"
      ],
      "metadata": {
        "execution": {
          "iopub.status.busy": "2024-07-17T10:16:37.40761Z",
          "iopub.execute_input": "2024-07-17T10:16:37.407959Z",
          "iopub.status.idle": "2024-07-17T10:16:37.415594Z",
          "shell.execute_reply.started": "2024-07-17T10:16:37.407932Z",
          "shell.execute_reply": "2024-07-17T10:16:37.414398Z"
        },
        "trusted": true,
        "id": "72HvgkoXFvlP"
      },
      "execution_count": null,
      "outputs": []
    },
    {
      "cell_type": "code",
      "source": [
        "data = pd.merge(pivot_df, df1, on='uid', how='inner')\n",
        "data.dropna(inplace=True)\n"
      ],
      "metadata": {
        "execution": {
          "iopub.status.busy": "2024-07-17T10:16:37.417238Z",
          "iopub.execute_input": "2024-07-17T10:16:37.417737Z",
          "iopub.status.idle": "2024-07-17T10:16:37.434198Z",
          "shell.execute_reply.started": "2024-07-17T10:16:37.4177Z",
          "shell.execute_reply": "2024-07-17T10:16:37.433053Z"
        },
        "trusted": true,
        "id": "wlLIPtiQFvlP"
      },
      "execution_count": null,
      "outputs": []
    },
    {
      "cell_type": "code",
      "source": [
        "data"
      ],
      "metadata": {
        "execution": {
          "iopub.status.busy": "2024-07-17T10:16:37.435706Z",
          "iopub.execute_input": "2024-07-17T10:16:37.436053Z",
          "iopub.status.idle": "2024-07-17T10:16:37.453926Z",
          "shell.execute_reply.started": "2024-07-17T10:16:37.436019Z",
          "shell.execute_reply": "2024-07-17T10:16:37.452512Z"
        },
        "trusted": true,
        "id": "RlrjPFy0FvlP"
      },
      "execution_count": null,
      "outputs": []
    },
    {
      "cell_type": "code",
      "source": [
        "df1[\"report\"][6]"
      ],
      "metadata": {
        "execution": {
          "iopub.status.busy": "2024-07-17T10:16:37.455312Z",
          "iopub.execute_input": "2024-07-17T10:16:37.455776Z",
          "iopub.status.idle": "2024-07-17T10:16:37.466429Z",
          "shell.execute_reply.started": "2024-07-17T10:16:37.455733Z",
          "shell.execute_reply": "2024-07-17T10:16:37.465256Z"
        },
        "trusted": true,
        "id": "Nq75ki5jFvlQ"
      },
      "execution_count": null,
      "outputs": []
    },
    {
      "cell_type": "code",
      "source": [
        "import pandas as pd\n",
        "import numpy as np\n",
        "import tensorflow as tf\n",
        "from tensorflow.keras.applications.resnet50 import ResNet50, preprocess_input\n",
        "from tensorflow.keras.preprocessing import image\n",
        "from tensorflow.keras.models import Model\n",
        "import os"
      ],
      "metadata": {
        "execution": {
          "iopub.status.busy": "2024-07-17T10:16:37.467848Z",
          "iopub.execute_input": "2024-07-17T10:16:37.46824Z",
          "iopub.status.idle": "2024-07-17T10:16:37.478527Z",
          "shell.execute_reply.started": "2024-07-17T10:16:37.468176Z",
          "shell.execute_reply": "2024-07-17T10:16:37.477466Z"
        },
        "trusted": true,
        "id": "18eqb_pfFvlQ"
      },
      "execution_count": null,
      "outputs": []
    },
    {
      "cell_type": "code",
      "source": [
        "from keras.layers import Input, Dense"
      ],
      "metadata": {
        "execution": {
          "iopub.status.busy": "2024-07-17T10:16:37.479877Z",
          "iopub.execute_input": "2024-07-17T10:16:37.480287Z",
          "iopub.status.idle": "2024-07-17T10:16:37.48882Z",
          "shell.execute_reply.started": "2024-07-17T10:16:37.480259Z",
          "shell.execute_reply": "2024-07-17T10:16:37.487771Z"
        },
        "trusted": true,
        "id": "jtEd0g6UFvlQ"
      },
      "execution_count": null,
      "outputs": []
    },
    {
      "cell_type": "code",
      "source": [
        "from tensorflow.keras.models import Sequential"
      ],
      "metadata": {
        "execution": {
          "iopub.status.busy": "2024-07-17T10:16:37.490581Z",
          "iopub.execute_input": "2024-07-17T10:16:37.490947Z",
          "iopub.status.idle": "2024-07-17T10:16:37.499594Z",
          "shell.execute_reply.started": "2024-07-17T10:16:37.490916Z",
          "shell.execute_reply": "2024-07-17T10:16:37.498428Z"
        },
        "trusted": true,
        "id": "9lpT7aanFvlQ"
      },
      "execution_count": null,
      "outputs": []
    },
    {
      "cell_type": "code",
      "source": [
        "from tensorflow.keras.layers import Dense, Flatten"
      ],
      "metadata": {
        "execution": {
          "iopub.status.busy": "2024-07-17T10:16:37.50106Z",
          "iopub.execute_input": "2024-07-17T10:16:37.501498Z",
          "iopub.status.idle": "2024-07-17T10:16:37.510809Z",
          "shell.execute_reply.started": "2024-07-17T10:16:37.501442Z",
          "shell.execute_reply": "2024-07-17T10:16:37.509868Z"
        },
        "trusted": true,
        "id": "b2nisjKHFvlQ"
      },
      "execution_count": null,
      "outputs": []
    },
    {
      "cell_type": "code",
      "source": [
        "from tensorflow.keras.applications import ResNet50\n",
        "\n",
        "# Define ResNet50 model\n",
        "image_shape = (224, 224, 3)\n",
        "image_input = Input(shape=image_shape)\n",
        "\n",
        "base_model = ResNet50(weights=\"imagenet\",include_top=False, input_tensor=image_input, input_shape=image_shape)\n",
        "resnet_model = Model(inputs=base_model.input, outputs=base_model.output)"
      ],
      "metadata": {
        "execution": {
          "iopub.status.busy": "2024-07-17T10:16:37.512247Z",
          "iopub.execute_input": "2024-07-17T10:16:37.512621Z",
          "iopub.status.idle": "2024-07-17T10:16:38.935101Z",
          "shell.execute_reply.started": "2024-07-17T10:16:37.512594Z",
          "shell.execute_reply": "2024-07-17T10:16:38.933878Z"
        },
        "trusted": true,
        "id": "pZulXvvTFvlQ"
      },
      "execution_count": null,
      "outputs": []
    },
    {
      "cell_type": "code",
      "source": [
        "resnet_model.summary()"
      ],
      "metadata": {
        "execution": {
          "iopub.status.busy": "2024-07-17T10:16:38.93664Z",
          "iopub.execute_input": "2024-07-17T10:16:38.937063Z",
          "iopub.status.idle": "2024-07-17T10:16:39.172702Z"
        },
        "trusted": true,
        "id": "60EXA3_GFvlR"
      },
      "execution_count": null,
      "outputs": []
    },
    {
      "cell_type": "code",
      "source": [
        "def image_feature_extraction(image1,image2):\n",
        "\n",
        "\n",
        "  image_1 = Image.open(image1)\n",
        "\n",
        "  image_1= np.asarray(image_1.convert(\"RGB\"))\n",
        "\n",
        "\n",
        "  image_2=Image.open(image2)\n",
        "  image_2 = np.asarray(image_2.convert(\"RGB\"))\n",
        "\n",
        "    #normalize the values of the image\n",
        "  image_1=image_1/255\n",
        "  image_2=image_2/255\n",
        "\n",
        "    #resize all image into (224,224)\n",
        "  image_1 = cv2.resize(image_1,(224,224))\n",
        "  image_2 = cv2.resize(image_2,(224,224))\n",
        "\n",
        "  image_1= np.expand_dims(image_1, axis=0)\n",
        "  image_2= np.expand_dims(image_2, axis=0)\n",
        "\n",
        "    #now we have read two image per patient. this is goven to the chexnet model for feature extraction\n",
        "\n",
        "  image_1_out=resnet_model(image_1)\n",
        "  image_2_out=resnet_model(image_2)\n",
        "  #conactenate along the width\n",
        "  conc=np.concatenate((image_1_out,image_2_out),axis=2)\n",
        "  #reshape into(no.of images passed, length*breadth, depth)\n",
        "  image_feature=tf.reshape(conc, (conc.shape[0], -1, conc.shape[-1]))\n",
        "\n",
        "\n",
        "\n",
        "  return image_feature\n",
        ""
      ],
      "metadata": {
        "execution": {
          "iopub.status.busy": "2024-07-17T10:16:39.174244Z",
          "iopub.execute_input": "2024-07-17T10:16:39.174669Z",
          "iopub.status.idle": "2024-07-17T10:16:39.185782Z",
          "shell.execute_reply.started": "2024-07-17T10:16:39.174634Z",
          "shell.execute_reply": "2024-07-17T10:16:39.184545Z"
        },
        "trusted": true,
        "id": "kfSCFyfsFvlR"
      },
      "execution_count": null,
      "outputs": []
    },
    {
      "cell_type": "code",
      "source": [
        "train_size = int(0.8 * len(data))  # 80% for training, adjust as needed\n",
        "test_size = len(data) - train_size"
      ],
      "metadata": {
        "execution": {
          "iopub.status.busy": "2024-07-17T10:16:39.187221Z",
          "iopub.execute_input": "2024-07-17T10:16:39.187638Z",
          "iopub.status.idle": "2024-07-17T10:16:39.199901Z",
          "shell.execute_reply.started": "2024-07-17T10:16:39.187606Z",
          "shell.execute_reply": "2024-07-17T10:16:39.198576Z"
        },
        "trusted": true,
        "id": "K1ddm-ssFvlR"
      },
      "execution_count": null,
      "outputs": []
    },
    {
      "cell_type": "code",
      "source": [
        "train = data.iloc[:train_size]\n",
        "test = data.iloc[train_size:]\n"
      ],
      "metadata": {
        "execution": {
          "iopub.status.busy": "2024-07-17T10:16:39.201348Z",
          "iopub.execute_input": "2024-07-17T10:16:39.201754Z",
          "iopub.status.idle": "2024-07-17T10:16:39.211907Z",
          "shell.execute_reply.started": "2024-07-17T10:16:39.20172Z",
          "shell.execute_reply": "2024-07-17T10:16:39.210541Z"
        },
        "trusted": true,
        "id": "oL9qb1v0FvlR"
      },
      "execution_count": null,
      "outputs": []
    },
    {
      "cell_type": "code",
      "source": [
        "len(train)"
      ],
      "metadata": {
        "execution": {
          "iopub.status.busy": "2024-07-17T10:16:39.213244Z",
          "iopub.execute_input": "2024-07-17T10:16:39.213622Z",
          "iopub.status.idle": "2024-07-17T10:16:39.225878Z",
          "shell.execute_reply.started": "2024-07-17T10:16:39.213592Z",
          "shell.execute_reply": "2024-07-17T10:16:39.224554Z"
        },
        "trusted": true,
        "id": "9OiNb1FiFvlR"
      },
      "execution_count": null,
      "outputs": []
    },
    {
      "cell_type": "code",
      "source": [
        "# train_features=np.zeros((2710,98,2048))\n",
        "\n",
        "\n",
        "# for row in tqdm(range(train.shape[0])):\n",
        "#     image_1=train.iloc[row][\"Frontal\"]\n",
        "#     image_2=train.iloc[row][\"Lateral\"]\n",
        "#     train_features[row]=(image_feature_extraction(image_1,image_2))\n"
      ],
      "metadata": {
        "execution": {
          "iopub.status.busy": "2024-07-17T10:16:39.227645Z",
          "iopub.execute_input": "2024-07-17T10:16:39.228147Z",
          "iopub.status.idle": "2024-07-17T10:16:39.237652Z",
          "shell.execute_reply.started": "2024-07-17T10:16:39.228107Z",
          "shell.execute_reply": "2024-07-17T10:16:39.23631Z"
        },
        "trusted": true,
        "id": "wOHH9Le1FvlR"
      },
      "execution_count": null,
      "outputs": []
    },
    {
      "cell_type": "code",
      "source": [
        "# test_features=np.zeros((678,98,2048))\n",
        "# for row in tqdm(range(test.shape[0])):\n",
        "#     image_1=test.iloc[row][\"Frontal\"]\n",
        "#     image_2=test.iloc[row][\"Lateral\"]\n",
        "#     test_features[row]=(image_feature_extraction(image_1,image_2))"
      ],
      "metadata": {
        "execution": {
          "iopub.status.busy": "2024-07-17T10:16:39.239299Z",
          "iopub.execute_input": "2024-07-17T10:16:39.240416Z",
          "iopub.status.idle": "2024-07-17T10:16:39.248803Z",
          "shell.execute_reply.started": "2024-07-17T10:16:39.240377Z",
          "shell.execute_reply": "2024-07-17T10:16:39.247503Z"
        },
        "trusted": true,
        "id": "Ke-2pMyeFvlS"
      },
      "execution_count": null,
      "outputs": []
    },
    {
      "cell_type": "code",
      "source": [
        "train_features=np.load(\"/kaggle/input/image-features-data-resnet/train_features_RES.npy\")\n",
        "test_features=np.load(\"/kaggle/input/image-features-data-resnet/test_features_RES.npy\")"
      ],
      "metadata": {
        "execution": {
          "iopub.status.busy": "2024-07-17T10:16:39.250166Z",
          "iopub.execute_input": "2024-07-17T10:16:39.250633Z",
          "iopub.status.idle": "2024-07-17T10:17:08.485904Z",
          "shell.execute_reply.started": "2024-07-17T10:16:39.2506Z",
          "shell.execute_reply": "2024-07-17T10:17:08.484729Z"
        },
        "trusted": true,
        "id": "PGhECsqFFvlS"
      },
      "execution_count": null,
      "outputs": []
    },
    {
      "cell_type": "code",
      "source": [
        "print(train_features.shape)\n",
        "print(test_features.shape)"
      ],
      "metadata": {
        "execution": {
          "iopub.status.busy": "2024-07-17T10:17:08.493456Z",
          "iopub.execute_input": "2024-07-17T10:17:08.493945Z",
          "iopub.status.idle": "2024-07-17T10:17:08.499629Z",
          "shell.execute_reply.started": "2024-07-17T10:17:08.493915Z",
          "shell.execute_reply": "2024-07-17T10:17:08.49844Z"
        },
        "trusted": true,
        "id": "A5ocJ2OZFvlS"
      },
      "execution_count": null,
      "outputs": []
    },
    {
      "cell_type": "code",
      "source": [
        "# np.save('/kaggle/working/train_features_RES.npy', train_features)\n",
        "# np.save('/kaggle/working/test_features_RES.npy', test_features)"
      ],
      "metadata": {
        "execution": {
          "iopub.status.busy": "2024-07-17T10:17:08.500978Z",
          "iopub.execute_input": "2024-07-17T10:17:08.5013Z",
          "iopub.status.idle": "2024-07-17T10:17:08.512188Z",
          "shell.execute_reply.started": "2024-07-17T10:17:08.501271Z",
          "shell.execute_reply": "2024-07-17T10:17:08.510954Z"
        },
        "trusted": true,
        "id": "tCfX7U61FvlS"
      },
      "execution_count": null,
      "outputs": []
    },
    {
      "cell_type": "code",
      "source": [
        "train_report=[\"<sos> \"+text+\" <eos>\" for text in train[\"report\"].values]\n",
        "train_report_in=[\"<sos> \"+text for text in train[\"report\"].values]\n",
        "train_report_out=[text+\" <eos>\" for text in train[\"report\"].values]\n",
        "\n",
        "test_report=[\"<sos> \" +text+\" <eos>\" for text in test[\"report\"].values]\n",
        "test_report_in=[\"<sos> \" +text for text in test[\"report\"].values]\n",
        "test_report_out=[text+\" <eos>\" for text in test[\"report\"].values]"
      ],
      "metadata": {
        "execution": {
          "iopub.status.busy": "2024-07-17T10:17:08.51346Z",
          "iopub.execute_input": "2024-07-17T10:17:08.514007Z",
          "iopub.status.idle": "2024-07-17T10:17:08.52964Z",
          "shell.execute_reply.started": "2024-07-17T10:17:08.513977Z",
          "shell.execute_reply": "2024-07-17T10:17:08.528056Z"
        },
        "trusted": true,
        "id": "ldZofP41FvlS"
      },
      "execution_count": null,
      "outputs": []
    },
    {
      "cell_type": "code",
      "source": [
        "print(train_report_in[0])\n",
        "print(\"*\"*100)\n",
        "print(train_report_out[0])\n"
      ],
      "metadata": {
        "execution": {
          "iopub.status.busy": "2024-07-17T10:17:08.531658Z",
          "iopub.execute_input": "2024-07-17T10:17:08.532832Z",
          "iopub.status.idle": "2024-07-17T10:17:08.545498Z",
          "shell.execute_reply.started": "2024-07-17T10:17:08.532784Z",
          "shell.execute_reply": "2024-07-17T10:17:08.544334Z"
        },
        "trusted": true,
        "id": "R-IjckBVFvlT"
      },
      "execution_count": null,
      "outputs": []
    },
    {
      "cell_type": "code",
      "source": [
        "bs=10\n",
        "max_len=80\n",
        ""
      ],
      "metadata": {
        "execution": {
          "iopub.status.busy": "2024-07-17T10:17:08.546909Z",
          "iopub.execute_input": "2024-07-17T10:17:08.547361Z",
          "iopub.status.idle": "2024-07-17T10:17:08.558155Z",
          "shell.execute_reply.started": "2024-07-17T10:17:08.547329Z",
          "shell.execute_reply": "2024-07-17T10:17:08.556967Z"
        },
        "trusted": true,
        "id": "SaTHJ3pmFvlT"
      },
      "execution_count": null,
      "outputs": []
    },
    {
      "cell_type": "code",
      "source": [
        "token=tf.keras.preprocessing.text.Tokenizer(filters='!\"#$%&()*+,-./:;?@[\\]^_{|}~\\t\\n')\n",
        "\n",
        "token.fit_on_texts(train_report)\n",
        "vocab_size=len(token.word_index)+1\n",
        "\n",
        "seq=token.texts_to_sequences(train_report_in)\n",
        "train_padded_inp=tf.keras.preprocessing.sequence.pad_sequences(seq,maxlen=max_len,padding=\"post\")\n",
        "\n",
        "\n",
        "seq=token.texts_to_sequences(train_report_out)\n",
        "train_padded_out=tf.keras.preprocessing.sequence.pad_sequences(seq,maxlen=max_len,padding=\"post\")\n",
        "\n",
        "seq=token.texts_to_sequences(test_report_in)\n",
        "test_padded_inp=tf.keras.preprocessing.sequence.pad_sequences(seq,maxlen=max_len,padding=\"post\")\n",
        "\n",
        "\n",
        "seq=token.texts_to_sequences(test_report_out)\n",
        "test_padded_out=tf.keras.preprocessing.sequence.pad_sequences(seq,maxlen=max_len,padding=\"post\")"
      ],
      "metadata": {
        "execution": {
          "iopub.status.busy": "2024-07-17T10:17:08.559757Z",
          "iopub.execute_input": "2024-07-17T10:17:08.560326Z",
          "iopub.status.idle": "2024-07-17T10:17:08.813292Z",
          "shell.execute_reply.started": "2024-07-17T10:17:08.560289Z",
          "shell.execute_reply": "2024-07-17T10:17:08.812266Z"
        },
        "trusted": true,
        "id": "du3oEN0lFvlU"
      },
      "execution_count": null,
      "outputs": []
    },
    {
      "cell_type": "code",
      "source": [
        "embeddings_index=dict()\n",
        "f = open('/kaggle/input/data-glove/glove.6B.300d.txt')\n",
        "for line in f:\n",
        "\tvalues = line.split()\n",
        "\tword = values[0]\n",
        "\tcoefs = np.asarray(values[1:], dtype='float32')\n",
        "\tembeddings_index[word] = coefs\n",
        "f.close()\n",
        "print(\"Done\")\n",
        "# create a weight matrix for words in training docs\n",
        "\n",
        "embedding_matrix = np.zeros((vocab_size, 300))\n",
        "for word, i in tqdm(token.word_index.items()):\n",
        "\tembedding_vector = embeddings_index.get(word)\n",
        "\tif embedding_vector is not None:\n",
        "\t\tembedding_matrix[i] = embedding_vector\n"
      ],
      "metadata": {
        "execution": {
          "iopub.status.busy": "2024-07-17T10:17:08.814548Z",
          "iopub.execute_input": "2024-07-17T10:17:08.814863Z",
          "iopub.status.idle": "2024-07-17T10:17:38.926776Z",
          "shell.execute_reply.started": "2024-07-17T10:17:08.814837Z",
          "shell.execute_reply": "2024-07-17T10:17:38.925191Z"
        },
        "trusted": true,
        "id": "BRzDJ3gHFvlV"
      },
      "execution_count": null,
      "outputs": []
    },
    {
      "cell_type": "code",
      "source": [
        "enc_units=64\n",
        "embedding_dim=300\n",
        "dec_units=64\n",
        "att_units=64"
      ],
      "metadata": {
        "execution": {
          "iopub.status.busy": "2024-07-17T10:17:38.928523Z",
          "iopub.execute_input": "2024-07-17T10:17:38.928916Z",
          "iopub.status.idle": "2024-07-17T10:17:38.935322Z",
          "shell.execute_reply.started": "2024-07-17T10:17:38.928885Z",
          "shell.execute_reply": "2024-07-17T10:17:38.933652Z"
        },
        "trusted": true,
        "id": "0DpYg56XFvlV"
      },
      "execution_count": null,
      "outputs": []
    },
    {
      "cell_type": "code",
      "source": [
        "class Encoder(tf.keras.Model):\n",
        "    def __init__(self, units):\n",
        "        super().__init__()\n",
        "        self.units = units\n",
        "\n",
        "    def build(self, input_shape):\n",
        "        self.dense1 = tf.keras.layers.Dense(self.units, activation=\"relu\", name=\"encoder_dense\")\n",
        "        self.maxpool = tf.keras.layers.Dropout(0.5)\n",
        "\n",
        "    def call(self, input_):\n",
        "        enc_out = self.maxpool(input_)\n",
        "        enc_out = self.dense1(enc_out)\n",
        "        return enc_out\n",
        "\n",
        "    def initialize_states(self, batch_size):\n",
        "        forward_h = tf.zeros((batch_size, self.units))\n",
        "        back_h = tf.zeros((batch_size, self.units))\n",
        "        return forward_h, back_h"
      ],
      "metadata": {
        "execution": {
          "iopub.status.busy": "2024-07-17T10:17:38.937745Z",
          "iopub.execute_input": "2024-07-17T10:17:38.938195Z",
          "iopub.status.idle": "2024-07-17T10:17:38.950986Z",
          "shell.execute_reply.started": "2024-07-17T10:17:38.938158Z",
          "shell.execute_reply": "2024-07-17T10:17:38.949851Z"
        },
        "trusted": true,
        "id": "05mlC56NFvlW"
      },
      "execution_count": null,
      "outputs": []
    },
    {
      "cell_type": "code",
      "source": [
        "class Attention(tf.keras.layers.Layer):\n",
        "    def __init__(self, att_units):\n",
        "        super().__init__()\n",
        "        self.att_units = att_units\n",
        "\n",
        "    def build(self, input_shape):\n",
        "        self.wa = tf.keras.layers.Dense(self.att_units)\n",
        "        self.wb = tf.keras.layers.Dense(self.att_units)\n",
        "        self.v = tf.keras.layers.Dense(1)\n",
        "\n",
        "    def call(self, decoder_hidden_state, encoder_output):\n",
        "        x = tf.expand_dims(decoder_hidden_state, 1)\n",
        "        alpha_dash = self.v(tf.nn.tanh(self.wa(encoder_output) + self.wb(x)))\n",
        "        alphas = tf.nn.softmax(alpha_dash, 1)\n",
        "        context_vector = tf.matmul(encoder_output, alphas, transpose_a=True)[:,:,0]\n",
        "        return context_vector, alphas"
      ],
      "metadata": {
        "execution": {
          "iopub.status.busy": "2024-07-17T10:17:38.952971Z",
          "iopub.execute_input": "2024-07-17T10:17:38.953368Z",
          "iopub.status.idle": "2024-07-17T10:17:38.970377Z",
          "shell.execute_reply.started": "2024-07-17T10:17:38.953335Z",
          "shell.execute_reply": "2024-07-17T10:17:38.969096Z"
        },
        "trusted": true,
        "id": "UaZnuo0jFvlW"
      },
      "execution_count": null,
      "outputs": []
    },
    {
      "cell_type": "code",
      "source": [
        "class One_Step_Decoder(tf.keras.Model):\n",
        "    def __init__(self, vocab_size, embedding_dim, input_length, dec_units, att_units):\n",
        "        super().__init__()\n",
        "        self.att_units = att_units\n",
        "        self.vocab_size = vocab_size\n",
        "        self.embedding_dim = embedding_dim\n",
        "        self.input_length = input_length\n",
        "        self.dec_units = dec_units\n",
        "        self.attention = Attention(self.att_units)\n",
        "        self.embedding = Embedding(\n",
        "            self.vocab_size,\n",
        "            output_dim=self.embedding_dim,\n",
        "            input_length=self.input_length,\n",
        "            mask_zero=True,\n",
        "            trainable=False,\n",
        "            embeddings_initializer=tf.keras.initializers.Constant(embedding_matrix)\n",
        "        )\n",
        "        self.gru = tf.keras.layers.Bidirectional(tf.keras.layers.GRU(self.dec_units, return_sequences=True, return_state=True))\n",
        "        self.dense = tf.keras.layers.Dense(self.vocab_size, name=\"decoder_final_dense\")\n",
        "        self.dense_2 = tf.keras.layers.Dense(self.embedding_dim, name=\"decoder_dense2\")\n",
        "        self.dropout = tf.keras.layers.Dropout(0.5)  # Move dropout initialization here\n",
        "\n",
        "    def call(self, input_to_decoder, encoder_output, for_h, bac_h):\n",
        "        embed = self.embedding(input_to_decoder)\n",
        "        state_h = tf.keras.layers.Add()([for_h, bac_h])\n",
        "        context_vector, alpha = self.attention(state_h, encoder_output)\n",
        "        context_vector = self.dense_2(context_vector)\n",
        "        result = tf.concat([tf.expand_dims(context_vector, axis=1), embed], axis=-1)\n",
        "        output, forward_h, back_h = self.gru(result, initial_state=[for_h, bac_h])\n",
        "        out = tf.reshape(output, (-1, output.shape[-1]))\n",
        "        out = self.dropout(out)  # Use dropout layer here\n",
        "        dense_op = self.dense(out)\n",
        "        return dense_op, forward_h, back_h, alpha"
      ],
      "metadata": {
        "execution": {
          "iopub.status.busy": "2024-07-17T10:17:38.972046Z",
          "iopub.execute_input": "2024-07-17T10:17:38.972405Z",
          "iopub.status.idle": "2024-07-17T10:17:38.985731Z",
          "shell.execute_reply.started": "2024-07-17T10:17:38.972376Z",
          "shell.execute_reply": "2024-07-17T10:17:38.984312Z"
        },
        "trusted": true,
        "id": "XjsbbaQwFvlX"
      },
      "execution_count": null,
      "outputs": []
    },
    {
      "cell_type": "code",
      "source": [
        "class Decoder(tf.keras.Model):\n",
        "    def __init__(self, vocab_size, embedding_dim, output_length, dec_units, att_units):\n",
        "        super().__init__()\n",
        "        self.onestep = One_Step_Decoder(vocab_size, embedding_dim, output_length, dec_units, att_units)\n",
        "\n",
        "    def call(self, input_to_decoder, encoder_output, state_1, state_2):\n",
        "        all_outputs = tf.TensorArray(tf.float32, input_to_decoder.shape[1], name=\"output_array\")\n",
        "        for step in range(input_to_decoder.shape[1]):\n",
        "            output, state_1, state_2, alpha = self.onestep(input_to_decoder[:, step:step+1], encoder_output, state_1, state_2)\n",
        "            all_outputs = all_outputs.write(step, output)\n",
        "        all_outputs = tf.transpose(all_outputs.stack(), [1, 0, 2])\n",
        "        return all_outputs"
      ],
      "metadata": {
        "execution": {
          "iopub.status.busy": "2024-07-17T10:17:38.987356Z",
          "iopub.execute_input": "2024-07-17T10:17:38.988079Z",
          "iopub.status.idle": "2024-07-17T10:17:39.005905Z",
          "shell.execute_reply.started": "2024-07-17T10:17:38.988045Z",
          "shell.execute_reply": "2024-07-17T10:17:39.004707Z"
        },
        "trusted": true,
        "id": "_x04lseZFvlY"
      },
      "execution_count": null,
      "outputs": []
    },
    {
      "cell_type": "code",
      "source": [
        "import warnings\n",
        "warnings.filterwarnings(\"ignore\")"
      ],
      "metadata": {
        "execution": {
          "iopub.status.busy": "2024-07-17T10:17:39.006988Z",
          "iopub.execute_input": "2024-07-17T10:17:39.007375Z",
          "iopub.status.idle": "2024-07-17T10:17:39.024599Z",
          "shell.execute_reply.started": "2024-07-17T10:17:39.007337Z",
          "shell.execute_reply": "2024-07-17T10:17:39.023189Z"
        },
        "trusted": true,
        "id": "0Sqpx5cvFvlY"
      },
      "execution_count": null,
      "outputs": []
    },
    {
      "cell_type": "code",
      "source": [
        "class encoder_decoder(tf.keras.Model):\n",
        "    def __init__(self, enc_units, embedding_dim, vocab_size, output_length, dec_units, att_units, batch_size):\n",
        "        super().__init__()\n",
        "        self.batch_size = batch_size\n",
        "        self.encoder = Encoder(enc_units)\n",
        "        self.decoder = Decoder(vocab_size, embedding_dim, output_length, dec_units, att_units)\n",
        "\n",
        "    def call(self, data):\n",
        "        features, report = data[0], data[1]\n",
        "        encoder_output = self.encoder(features)\n",
        "        state_h, back_h = self.encoder.initialize_states(self.batch_size)\n",
        "        output = self.decoder(report, encoder_output, state_h, back_h)\n",
        "        return output"
      ],
      "metadata": {
        "execution": {
          "iopub.status.busy": "2024-07-17T10:17:39.026121Z",
          "iopub.execute_input": "2024-07-17T10:17:39.026689Z",
          "iopub.status.idle": "2024-07-17T10:17:39.039756Z",
          "shell.execute_reply.started": "2024-07-17T10:17:39.026642Z",
          "shell.execute_reply": "2024-07-17T10:17:39.038426Z"
        },
        "trusted": true,
        "id": "krswODsZFvlY"
      },
      "execution_count": null,
      "outputs": []
    },
    {
      "cell_type": "code",
      "source": [
        "from tensorflow.keras.layers import Embedding"
      ],
      "metadata": {
        "execution": {
          "iopub.status.busy": "2024-07-17T10:17:39.041131Z",
          "iopub.execute_input": "2024-07-17T10:17:39.041501Z",
          "iopub.status.idle": "2024-07-17T10:17:39.054619Z",
          "shell.execute_reply.started": "2024-07-17T10:17:39.041457Z",
          "shell.execute_reply": "2024-07-17T10:17:39.0533Z"
        },
        "trusted": true,
        "id": "T2_3RFkOFvlZ"
      },
      "execution_count": null,
      "outputs": []
    },
    {
      "cell_type": "code",
      "source": [
        "model  = encoder_decoder(enc_units,embedding_dim,vocab_size,max_len,dec_units,att_units,bs)"
      ],
      "metadata": {
        "execution": {
          "iopub.status.busy": "2024-07-17T10:17:39.05614Z",
          "iopub.execute_input": "2024-07-17T10:17:39.056696Z",
          "iopub.status.idle": "2024-07-17T10:17:39.099983Z",
          "shell.execute_reply.started": "2024-07-17T10:17:39.056661Z",
          "shell.execute_reply": "2024-07-17T10:17:39.098533Z"
        },
        "trusted": true,
        "id": "7OvJ6HUOFvlZ"
      },
      "execution_count": null,
      "outputs": []
    },
    {
      "cell_type": "code",
      "source": [
        "optimizer = tf.keras.optimizers.Adam()\n",
        "\n",
        "loss_function = tf.keras.losses.SparseCategoricalCrossentropy(from_logits=True, reduction='none')\n",
        "\n",
        "def custom_lossfunction(y_true, y_pred):\n",
        "    #getting mask value\n",
        "    mask = tf.math.logical_not(tf.math.equal(y_true, 0))\n",
        "\n",
        "    #calculating the loss\n",
        "    loss_ = loss_function(y_true, y_pred)\n",
        "\n",
        "    #converting mask dtype to loss_ dtype\n",
        "    mask = tf.cast(mask, dtype=loss_.dtype)\n",
        "\n",
        "    #applying the mask to loss\n",
        "    loss_ = loss_*mask\n",
        "\n",
        "    #getting mean over all the values\n",
        "    loss_ = tf.reduce_mean(loss_)\n",
        "    return loss_"
      ],
      "metadata": {
        "execution": {
          "iopub.status.busy": "2024-07-17T10:17:39.101421Z",
          "iopub.execute_input": "2024-07-17T10:17:39.101895Z",
          "iopub.status.idle": "2024-07-17T10:17:39.119572Z",
          "shell.execute_reply.started": "2024-07-17T10:17:39.101856Z",
          "shell.execute_reply": "2024-07-17T10:17:39.118193Z"
        },
        "trusted": true,
        "id": "6zPMEt6LFvlZ"
      },
      "execution_count": null,
      "outputs": []
    },
    {
      "cell_type": "code",
      "source": [
        "\n",
        "model.compile(optimizer=optimizer,loss=custom_lossfunction)"
      ],
      "metadata": {
        "execution": {
          "iopub.status.busy": "2024-07-17T10:17:39.121319Z",
          "iopub.execute_input": "2024-07-17T10:17:39.121876Z",
          "iopub.status.idle": "2024-07-17T10:17:39.136833Z",
          "shell.execute_reply.started": "2024-07-17T10:17:39.121838Z",
          "shell.execute_reply": "2024-07-17T10:17:39.13545Z"
        },
        "trusted": true,
        "id": "8McK_4TdFvlZ"
      },
      "execution_count": null,
      "outputs": []
    },
    {
      "cell_type": "code",
      "source": [
        "red_lr=tf.keras.callbacks.ReduceLROnPlateau(monitor=\"val_loss\",factor=0.2,patience=2, min_lr=0.0001)\n",
        "ckpt=tf.keras.callbacks.ModelCheckpoint(\"model2wts.keras\",monitor='val_loss', verbose=0, save_best_only=True,save_weights_only=False, mode='auto')\n",
        ""
      ],
      "metadata": {
        "execution": {
          "iopub.status.busy": "2024-07-17T10:17:39.138271Z",
          "iopub.execute_input": "2024-07-17T10:17:39.138821Z",
          "iopub.status.idle": "2024-07-17T10:17:39.145514Z",
          "shell.execute_reply.started": "2024-07-17T10:17:39.13878Z",
          "shell.execute_reply": "2024-07-17T10:17:39.144316Z"
        },
        "trusted": true,
        "id": "V84VpqaRFvlZ"
      },
      "execution_count": null,
      "outputs": []
    },
    {
      "cell_type": "code",
      "source": [
        "model.fit([train_features[:2710],train_padded_inp[:2710]],train_padded_out[:2710],validation_data=([test_features[:670],test_padded_inp[:670]],test_padded_out[:670]),\n",
        "          batch_size=bs,epochs=15,callbacks=[red_lr,ckpt])"
      ],
      "metadata": {
        "execution": {
          "iopub.status.busy": "2024-07-17T10:17:39.14685Z",
          "iopub.execute_input": "2024-07-17T10:17:39.147222Z",
          "iopub.status.idle": "2024-07-17T10:18:34.736179Z",
          "shell.execute_reply.started": "2024-07-17T10:17:39.147191Z",
          "shell.execute_reply": "2024-07-17T10:18:34.731493Z"
        },
        "trusted": true,
        "id": "lXoA-JZrFvla"
      },
      "execution_count": null,
      "outputs": []
    },
    {
      "cell_type": "code",
      "source": [
        "def take_second(elem):\n",
        "    return elem[1]"
      ],
      "metadata": {
        "execution": {
          "iopub.status.busy": "2024-07-17T10:18:34.737425Z",
          "iopub.status.idle": "2024-07-17T10:18:34.73785Z",
          "shell.execute_reply.started": "2024-07-17T10:18:34.737661Z",
          "shell.execute_reply": "2024-07-17T10:18:34.737677Z"
        },
        "trusted": true,
        "id": "ez28eAfNFvla"
      },
      "execution_count": null,
      "outputs": []
    },
    {
      "cell_type": "code",
      "source": [
        "import nltk.translate.bleu_score as bleu\n",
        "import time"
      ],
      "metadata": {
        "execution": {
          "iopub.status.busy": "2024-07-17T10:18:34.739852Z",
          "iopub.status.idle": "2024-07-17T10:18:34.740313Z",
          "shell.execute_reply.started": "2024-07-17T10:18:34.740098Z",
          "shell.execute_reply": "2024-07-17T10:18:34.740116Z"
        },
        "trusted": true,
        "id": "KtoHjmHAFvla"
      },
      "execution_count": null,
      "outputs": []
    },
    {
      "cell_type": "code",
      "source": [
        "def beam_search(image1,image2, beam_index):\n",
        "\n",
        "    hidden_state =  tf.zeros((1, enc_units))\n",
        "    hidden_state2 =  tf.zeros((1, enc_units))\n",
        "    image_features=image_feature_extraction(image1,image2)\n",
        "\n",
        "    encoder_out = model.layers[0](image_features)\n",
        "\n",
        "    start_token = [token.word_index[\"<sos>\"]]\n",
        "    dec_word = [[start_token, 0.0]]\n",
        "    while len(dec_word[0][0]) < max_len:\n",
        "        temp = []\n",
        "        for word in dec_word:\n",
        "\n",
        "            predict, hidden_state,hidden_state2,alpha = model.layers[1].onestep(tf.expand_dims([word[0][-1]],1), encoder_out, hidden_state,hidden_state2)\n",
        "\n",
        "\n",
        "            word_predict = np.argsort(predict[0])[-beam_index:]\n",
        "            for i in word_predict:\n",
        "\n",
        "                next_word, probab = word[0][:], word[1]\n",
        "                next_word.append(i)\n",
        "                probab += predict[0][i]\n",
        "                temp.append([next_word, probab.numpy()])\n",
        "        dec_word = temp\n",
        "        # Sorting according to the probabilities scores\n",
        "\n",
        "\n",
        "        dec_word = sorted(dec_word, key=take_second)\n",
        "\n",
        "        # Getting the top words\n",
        "        dec_word = dec_word[-beam_index:]\n",
        "\n",
        "\n",
        "    final = dec_word[-1]\n",
        "\n",
        "    report =final[0]\n",
        "    score = final[1]\n",
        "    temp = []\n",
        "\n",
        "    for word in report:\n",
        "      if word!=0:\n",
        "        if word != token.word_index[\"<eos>\"]:\n",
        "            temp.append(token.index_word[word])\n",
        "        else:\n",
        "            break\n",
        "\n",
        "    rep = \" \".join(e for e in temp)\n",
        "\n",
        "    return rep, score"
      ],
      "metadata": {
        "execution": {
          "iopub.status.busy": "2024-07-17T10:18:34.742714Z",
          "iopub.status.idle": "2024-07-17T10:18:34.744059Z",
          "shell.execute_reply.started": "2024-07-17T10:18:34.743505Z",
          "shell.execute_reply": "2024-07-17T10:18:34.743531Z"
        },
        "trusted": true,
        "id": "GZyK8lmwFvla"
      },
      "execution_count": null,
      "outputs": []
    },
    {
      "cell_type": "code",
      "source": [
        "import random\n",
        "start=time.time()\n",
        "i=random.sample(range(test.shape[0]),1)[0]\n",
        "img1=test.iloc[i][\"Frontal\"]\n",
        "img2=test.iloc[i][\"Lateral\"]\n",
        "  #show th corresponding x-ray images\n",
        "i1=cv2.imread(img1)\n",
        "i2=cv2.imread(img2)\n",
        "plt.figure(figsize=(10,6))\n",
        "plt.subplot(131)\n",
        "plt.title(\"image1\")\n",
        "plt.imshow(i1)\n",
        "plt.subplot(132)\n",
        "plt.title(\"image2\")\n",
        "plt.imshow(i2)\n",
        "plt.show()\n",
        "  #printing the actual and generated results\n",
        "\n",
        "result,score=beam_search(img1,img2,3)\n",
        "actual=test_report[i]\n",
        "\n",
        "print(\"ACTUAL REPORT: \",actual)\n",
        "print(\"GENERATED REPORT: \",result)\n",
        "end=time.time()\n",
        "print(\"BLEU SCORE IS: \",bleu.sentence_bleu(actual,result))\n",
        "print(\"time required for the evaluation is \",end-start)"
      ],
      "metadata": {
        "execution": {
          "iopub.status.busy": "2024-07-17T10:18:34.745858Z",
          "iopub.status.idle": "2024-07-17T10:18:34.74652Z",
          "shell.execute_reply.started": "2024-07-17T10:18:34.74615Z",
          "shell.execute_reply": "2024-07-17T10:18:34.746226Z"
        },
        "trusted": true,
        "id": "8KZWSzybFvlb"
      },
      "execution_count": null,
      "outputs": []
    },
    {
      "cell_type": "code",
      "source": [
        "import random\n",
        "start=time.time()\n",
        "i=random.sample(range(test.shape[0]),1)[0]\n",
        "img1=test.iloc[i][\"Frontal\"]\n",
        "img2=test.iloc[i][\"Lateral\"]\n",
        "  #show th corresponding x-ray images\n",
        "i1=cv2.imread(img1)\n",
        "i2=cv2.imread(img2)\n",
        "plt.figure(figsize=(10,6))\n",
        "plt.subplot(131)\n",
        "plt.title(\"image1\")\n",
        "plt.imshow(i1)\n",
        "plt.subplot(132)\n",
        "plt.title(\"image2\")\n",
        "plt.imshow(i2)\n",
        "plt.show()\n",
        "  #printing the actual and generated results\n",
        "\n",
        "result,score=beam_search(img1,img2,2)\n",
        "actual=test_report[i]\n",
        "\n",
        "print(\"ACTUAL REPORT: \",actual)\n",
        "print(\"GENERATED REPORT: \",result)\n",
        "end=time.time()\n",
        "print(\"BLEU SCORE IS: \",bleu.sentence_bleu(actual,result))\n",
        "print(\"time required for the evaluation is \",end-start)"
      ],
      "metadata": {
        "id": "8oWTCMMvFvlb"
      },
      "execution_count": null,
      "outputs": []
    },
    {
      "cell_type": "code",
      "source": [
        "import random\n",
        "start=time.time()\n",
        "i=random.sample(range(test.shape[0]),1)[0]\n",
        "img1=test.iloc[i][\"Frontal\"]\n",
        "img2=test.iloc[i][\"Lateral\"]\n",
        "  #show th corresponding x-ray images\n",
        "i1=cv2.imread(img1)\n",
        "i2=cv2.imread(img2)\n",
        "plt.figure(figsize=(10,6))\n",
        "plt.subplot(131)\n",
        "plt.title(\"image1\")\n",
        "plt.imshow(i1)\n",
        "plt.subplot(132)\n",
        "plt.title(\"image2\")\n",
        "plt.imshow(i2)\n",
        "plt.show()\n",
        "  #printing the actual and generated results\n",
        "\n",
        "result,score=beam_search(img1,img2,4)\n",
        "actual=test_report[i]\n",
        "\n",
        "print(\"ACTUAL REPORT: \",actual)\n",
        "print(\"GENERATED REPORT: \",result)\n",
        "end=time.time()\n",
        "print(\"BLEU SCORE IS: \",bleu.sentence_bleu(actual,result))\n",
        "print(\"time required for the evaluation is \",end-start)"
      ],
      "metadata": {
        "id": "Pzx0XnP9Fvlb"
      },
      "execution_count": null,
      "outputs": []
    },
    {
      "cell_type": "code",
      "source": [
        "import random\n",
        "start=time.time()\n",
        "i=random.sample(range(test.shape[0]),1)[0]\n",
        "img1=test.iloc[i][\"Frontal\"]\n",
        "img2=test.iloc[i][\"Lateral\"]\n",
        "  #show th corresponding x-ray images\n",
        "i1=cv2.imread(img1)\n",
        "i2=cv2.imread(img2)\n",
        "plt.figure(figsize=(10,6))\n",
        "plt.subplot(131)\n",
        "plt.title(\"image1\")\n",
        "plt.imshow(i1)\n",
        "plt.subplot(132)\n",
        "plt.title(\"image2\")\n",
        "plt.imshow(i2)\n",
        "plt.show()\n",
        "  #printing the actual and generated results\n",
        "\n",
        "result,score=beam_search(img1,img2,1)\n",
        "actual=test_report[i]\n",
        "\n",
        "print(\"ACTUAL REPORT: \",actual)\n",
        "print(\"GENERATED REPORT: \",result)\n",
        "end=time.time()\n",
        "print(\"BLEU SCORE IS: \",bleu.sentence_bleu(actual,result))\n",
        "print(\"time required for the evaluation is \",end-start)"
      ],
      "metadata": {
        "id": "LTx03Fp7Fvlc"
      },
      "execution_count": null,
      "outputs": []
    },
    {
      "cell_type": "code",
      "source": [
        "# def evaluate_reports(test_data, beam_index):\n",
        "#     actual_reports = []\n",
        "#     generated_reports = []\n",
        "#     bleu_scores = []\n",
        "\n",
        "#     for i in tqdm(range(len(test_data))):\n",
        "#         img1 = test_data.iloc[i][\"Frontal\"]\n",
        "#         img2 = test_data.iloc[i][\"Lateral\"]\n",
        "\n",
        "#         # Generate report\n",
        "#         result, _ = beam_search(img1, img2, beam_index)\n",
        "#         actual = test_report[i]\n",
        "\n",
        "#         # Calculate BLEU score\n",
        "#         bleu_score = bleu.sentence_bleu([actual.split()], result.split())\n",
        "\n",
        "#         # Store results\n",
        "#         actual_reports.append(actual)\n",
        "#         generated_reports.append(result)\n",
        "#         bleu_scores.append(bleu_score)\n",
        "\n",
        "#     # Create a DataFrame to store the results\n",
        "#     results_df = pd.DataFrame({\n",
        "#         'Actual Report': actual_reports,\n",
        "#         'Generated Report': generated_reports,\n",
        "#         'BLEU Score': bleu_scores\n",
        "#     })\n",
        "\n",
        "#     return results_df"
      ],
      "metadata": {
        "execution": {
          "iopub.status.busy": "2024-07-17T10:18:34.748828Z",
          "iopub.status.idle": "2024-07-17T10:18:34.750087Z",
          "shell.execute_reply.started": "2024-07-17T10:18:34.749775Z",
          "shell.execute_reply": "2024-07-17T10:18:34.749802Z"
        },
        "trusted": true,
        "id": "Mwdc_Y8CFvlc"
      },
      "execution_count": null,
      "outputs": []
    },
    {
      "cell_type": "code",
      "source": [
        "# results_df = evaluate_reports(test, beam_index=3)"
      ],
      "metadata": {
        "execution": {
          "iopub.status.busy": "2024-07-17T10:18:34.75167Z",
          "iopub.status.idle": "2024-07-17T10:18:34.752217Z",
          "shell.execute_reply.started": "2024-07-17T10:18:34.751943Z",
          "shell.execute_reply": "2024-07-17T10:18:34.751965Z"
        },
        "trusted": true,
        "id": "IlI5xB9sFvlc"
      },
      "execution_count": null,
      "outputs": []
    },
    {
      "cell_type": "code",
      "source": [
        "# results_df.to_csv('report_evaluation.csv', index=False)"
      ],
      "metadata": {
        "execution": {
          "iopub.status.busy": "2024-07-17T10:18:34.753894Z",
          "iopub.status.idle": "2024-07-17T10:18:34.754278Z",
          "shell.execute_reply.started": "2024-07-17T10:18:34.754096Z",
          "shell.execute_reply": "2024-07-17T10:18:34.754111Z"
        },
        "trusted": true,
        "id": "vKQclj73Fvlc"
      },
      "execution_count": null,
      "outputs": []
    }
  ]
}